{
  "nbformat": 4,
  "nbformat_minor": 5,
  "metadata": {
    "kernelspec": {
      "display_name": "Python 3",
      "language": "python",
      "name": "python3"
    },
    "language_info": {
      "codemirror_mode": {
        "name": "ipython",
        "version": 3
      },
      "file_extension": ".py",
      "mimetype": "text/x-python",
      "name": "python",
      "nbconvert_exporter": "python",
      "pygments_lexer": "ipython3",
      "version": "3.8.5"
    },
    "colab": {
      "name": "BDA_Fake_news_detection.ipynb",
      "provenance": [],
      "include_colab_link": true
    }
  },
  "cells": [
    {
      "cell_type": "markdown",
      "metadata": {
        "id": "view-in-github",
        "colab_type": "text"
      },
      "source": [
        "<a href=\"https://colab.research.google.com/github/TheFlopEngineer/Fake-news-detection/blob/main/Fake_news_detection.ipynb\" target=\"_parent\"><img src=\"https://colab.research.google.com/assets/colab-badge.svg\" alt=\"Open In Colab\"/></a>"
      ]
    },
    {
      "cell_type": "code",
      "metadata": {
        "id": "textile-limitation",
        "colab": {
          "base_uri": "https://localhost:8080/",
          "height": 17
        },
        "outputId": "52a5f977-9b56-445e-d9a0-2ef1325dfcf0"
      },
      "source": [
        "%%html\n",
        "<style>\n",
        "table {float:left}\n",
        "</style>"
      ],
      "id": "textile-limitation",
      "execution_count": 5,
      "outputs": [
        {
          "output_type": "display_data",
          "data": {
            "text/html": [
              "<style>\n",
              "table {float:left}\n",
              "</style>"
            ],
            "text/plain": [
              "<IPython.core.display.HTML object>"
            ]
          },
          "metadata": {
            "tags": []
          }
        }
      ]
    },
    {
      "cell_type": "markdown",
      "metadata": {
        "id": "baking-birmingham"
      },
      "source": [
        "### BDA Project : Fake News Detection\n",
        "\n",
        "|Name|ROll No.|\n",
        "|:-| -:| \n",
        "|Vikas Kumar|2K17/CO/370|"
      ],
      "id": "baking-birmingham"
    },
    {
      "cell_type": "code",
      "metadata": {
        "id": "coastal-mauritius"
      },
      "source": [
        "import numpy as np\n",
        "import pandas as pd"
      ],
      "id": "coastal-mauritius",
      "execution_count": 6,
      "outputs": []
    },
    {
      "cell_type": "code",
      "metadata": {
        "id": "according-merit",
        "colab": {
          "base_uri": "https://localhost:8080/",
          "height": 417
        },
        "outputId": "aef53ffa-bd88-4f92-d405-8e4a9a227248"
      },
      "source": [
        "fake_news = pd.read_csv('Fake.csv')\n",
        "fake_news"
      ],
      "id": "according-merit",
      "execution_count": 8,
      "outputs": [
        {
          "output_type": "execute_result",
          "data": {
            "text/html": [
              "<div>\n",
              "<style scoped>\n",
              "    .dataframe tbody tr th:only-of-type {\n",
              "        vertical-align: middle;\n",
              "    }\n",
              "\n",
              "    .dataframe tbody tr th {\n",
              "        vertical-align: top;\n",
              "    }\n",
              "\n",
              "    .dataframe thead th {\n",
              "        text-align: right;\n",
              "    }\n",
              "</style>\n",
              "<table border=\"1\" class=\"dataframe\">\n",
              "  <thead>\n",
              "    <tr style=\"text-align: right;\">\n",
              "      <th></th>\n",
              "      <th>title</th>\n",
              "      <th>text</th>\n",
              "      <th>subject</th>\n",
              "      <th>date</th>\n",
              "    </tr>\n",
              "  </thead>\n",
              "  <tbody>\n",
              "    <tr>\n",
              "      <th>0</th>\n",
              "      <td>Donald Trump Sends Out Embarrassing New Year’...</td>\n",
              "      <td>Donald Trump just couldn t wish all Americans ...</td>\n",
              "      <td>News</td>\n",
              "      <td>December 31, 2017</td>\n",
              "    </tr>\n",
              "    <tr>\n",
              "      <th>1</th>\n",
              "      <td>Drunk Bragging Trump Staffer Started Russian ...</td>\n",
              "      <td>House Intelligence Committee Chairman Devin Nu...</td>\n",
              "      <td>News</td>\n",
              "      <td>December 31, 2017</td>\n",
              "    </tr>\n",
              "    <tr>\n",
              "      <th>2</th>\n",
              "      <td>Sheriff David Clarke Becomes An Internet Joke...</td>\n",
              "      <td>On Friday, it was revealed that former Milwauk...</td>\n",
              "      <td>News</td>\n",
              "      <td>December 30, 2017</td>\n",
              "    </tr>\n",
              "    <tr>\n",
              "      <th>3</th>\n",
              "      <td>Trump Is So Obsessed He Even Has Obama’s Name...</td>\n",
              "      <td>On Christmas day, Donald Trump announced that ...</td>\n",
              "      <td>News</td>\n",
              "      <td>December 29, 2017</td>\n",
              "    </tr>\n",
              "    <tr>\n",
              "      <th>4</th>\n",
              "      <td>Pope Francis Just Called Out Donald Trump Dur...</td>\n",
              "      <td>Pope Francis used his annual Christmas Day mes...</td>\n",
              "      <td>News</td>\n",
              "      <td>December 25, 2017</td>\n",
              "    </tr>\n",
              "    <tr>\n",
              "      <th>...</th>\n",
              "      <td>...</td>\n",
              "      <td>...</td>\n",
              "      <td>...</td>\n",
              "      <td>...</td>\n",
              "    </tr>\n",
              "    <tr>\n",
              "      <th>23476</th>\n",
              "      <td>McPain: John McCain Furious That Iran Treated ...</td>\n",
              "      <td>21st Century Wire says As 21WIRE reported earl...</td>\n",
              "      <td>Middle-east</td>\n",
              "      <td>January 16, 2016</td>\n",
              "    </tr>\n",
              "    <tr>\n",
              "      <th>23477</th>\n",
              "      <td>JUSTICE? Yahoo Settles E-mail Privacy Class-ac...</td>\n",
              "      <td>21st Century Wire says It s a familiar theme. ...</td>\n",
              "      <td>Middle-east</td>\n",
              "      <td>January 16, 2016</td>\n",
              "    </tr>\n",
              "    <tr>\n",
              "      <th>23478</th>\n",
              "      <td>Sunnistan: US and Allied ‘Safe Zone’ Plan to T...</td>\n",
              "      <td>Patrick Henningsen  21st Century WireRemember ...</td>\n",
              "      <td>Middle-east</td>\n",
              "      <td>January 15, 2016</td>\n",
              "    </tr>\n",
              "    <tr>\n",
              "      <th>23479</th>\n",
              "      <td>How to Blow $700 Million: Al Jazeera America F...</td>\n",
              "      <td>21st Century Wire says Al Jazeera America will...</td>\n",
              "      <td>Middle-east</td>\n",
              "      <td>January 14, 2016</td>\n",
              "    </tr>\n",
              "    <tr>\n",
              "      <th>23480</th>\n",
              "      <td>10 U.S. Navy Sailors Held by Iranian Military ...</td>\n",
              "      <td>21st Century Wire says As 21WIRE predicted in ...</td>\n",
              "      <td>Middle-east</td>\n",
              "      <td>January 12, 2016</td>\n",
              "    </tr>\n",
              "  </tbody>\n",
              "</table>\n",
              "<p>23481 rows × 4 columns</p>\n",
              "</div>"
            ],
            "text/plain": [
              "                                                   title  ...               date\n",
              "0       Donald Trump Sends Out Embarrassing New Year’...  ...  December 31, 2017\n",
              "1       Drunk Bragging Trump Staffer Started Russian ...  ...  December 31, 2017\n",
              "2       Sheriff David Clarke Becomes An Internet Joke...  ...  December 30, 2017\n",
              "3       Trump Is So Obsessed He Even Has Obama’s Name...  ...  December 29, 2017\n",
              "4       Pope Francis Just Called Out Donald Trump Dur...  ...  December 25, 2017\n",
              "...                                                  ...  ...                ...\n",
              "23476  McPain: John McCain Furious That Iran Treated ...  ...   January 16, 2016\n",
              "23477  JUSTICE? Yahoo Settles E-mail Privacy Class-ac...  ...   January 16, 2016\n",
              "23478  Sunnistan: US and Allied ‘Safe Zone’ Plan to T...  ...   January 15, 2016\n",
              "23479  How to Blow $700 Million: Al Jazeera America F...  ...   January 14, 2016\n",
              "23480  10 U.S. Navy Sailors Held by Iranian Military ...  ...   January 12, 2016\n",
              "\n",
              "[23481 rows x 4 columns]"
            ]
          },
          "metadata": {
            "tags": []
          },
          "execution_count": 8
        }
      ]
    },
    {
      "cell_type": "code",
      "metadata": {
        "scrolled": false,
        "id": "christian-rings",
        "colab": {
          "base_uri": "https://localhost:8080/",
          "height": 417
        },
        "outputId": "18ccab95-7718-481b-d29b-3a48e4bf9a58"
      },
      "source": [
        "fake_news['flag'] = 0\n",
        "fake_news"
      ],
      "id": "christian-rings",
      "execution_count": 9,
      "outputs": [
        {
          "output_type": "execute_result",
          "data": {
            "text/html": [
              "<div>\n",
              "<style scoped>\n",
              "    .dataframe tbody tr th:only-of-type {\n",
              "        vertical-align: middle;\n",
              "    }\n",
              "\n",
              "    .dataframe tbody tr th {\n",
              "        vertical-align: top;\n",
              "    }\n",
              "\n",
              "    .dataframe thead th {\n",
              "        text-align: right;\n",
              "    }\n",
              "</style>\n",
              "<table border=\"1\" class=\"dataframe\">\n",
              "  <thead>\n",
              "    <tr style=\"text-align: right;\">\n",
              "      <th></th>\n",
              "      <th>title</th>\n",
              "      <th>text</th>\n",
              "      <th>subject</th>\n",
              "      <th>date</th>\n",
              "      <th>flag</th>\n",
              "    </tr>\n",
              "  </thead>\n",
              "  <tbody>\n",
              "    <tr>\n",
              "      <th>0</th>\n",
              "      <td>Donald Trump Sends Out Embarrassing New Year’...</td>\n",
              "      <td>Donald Trump just couldn t wish all Americans ...</td>\n",
              "      <td>News</td>\n",
              "      <td>December 31, 2017</td>\n",
              "      <td>0</td>\n",
              "    </tr>\n",
              "    <tr>\n",
              "      <th>1</th>\n",
              "      <td>Drunk Bragging Trump Staffer Started Russian ...</td>\n",
              "      <td>House Intelligence Committee Chairman Devin Nu...</td>\n",
              "      <td>News</td>\n",
              "      <td>December 31, 2017</td>\n",
              "      <td>0</td>\n",
              "    </tr>\n",
              "    <tr>\n",
              "      <th>2</th>\n",
              "      <td>Sheriff David Clarke Becomes An Internet Joke...</td>\n",
              "      <td>On Friday, it was revealed that former Milwauk...</td>\n",
              "      <td>News</td>\n",
              "      <td>December 30, 2017</td>\n",
              "      <td>0</td>\n",
              "    </tr>\n",
              "    <tr>\n",
              "      <th>3</th>\n",
              "      <td>Trump Is So Obsessed He Even Has Obama’s Name...</td>\n",
              "      <td>On Christmas day, Donald Trump announced that ...</td>\n",
              "      <td>News</td>\n",
              "      <td>December 29, 2017</td>\n",
              "      <td>0</td>\n",
              "    </tr>\n",
              "    <tr>\n",
              "      <th>4</th>\n",
              "      <td>Pope Francis Just Called Out Donald Trump Dur...</td>\n",
              "      <td>Pope Francis used his annual Christmas Day mes...</td>\n",
              "      <td>News</td>\n",
              "      <td>December 25, 2017</td>\n",
              "      <td>0</td>\n",
              "    </tr>\n",
              "    <tr>\n",
              "      <th>...</th>\n",
              "      <td>...</td>\n",
              "      <td>...</td>\n",
              "      <td>...</td>\n",
              "      <td>...</td>\n",
              "      <td>...</td>\n",
              "    </tr>\n",
              "    <tr>\n",
              "      <th>23476</th>\n",
              "      <td>McPain: John McCain Furious That Iran Treated ...</td>\n",
              "      <td>21st Century Wire says As 21WIRE reported earl...</td>\n",
              "      <td>Middle-east</td>\n",
              "      <td>January 16, 2016</td>\n",
              "      <td>0</td>\n",
              "    </tr>\n",
              "    <tr>\n",
              "      <th>23477</th>\n",
              "      <td>JUSTICE? Yahoo Settles E-mail Privacy Class-ac...</td>\n",
              "      <td>21st Century Wire says It s a familiar theme. ...</td>\n",
              "      <td>Middle-east</td>\n",
              "      <td>January 16, 2016</td>\n",
              "      <td>0</td>\n",
              "    </tr>\n",
              "    <tr>\n",
              "      <th>23478</th>\n",
              "      <td>Sunnistan: US and Allied ‘Safe Zone’ Plan to T...</td>\n",
              "      <td>Patrick Henningsen  21st Century WireRemember ...</td>\n",
              "      <td>Middle-east</td>\n",
              "      <td>January 15, 2016</td>\n",
              "      <td>0</td>\n",
              "    </tr>\n",
              "    <tr>\n",
              "      <th>23479</th>\n",
              "      <td>How to Blow $700 Million: Al Jazeera America F...</td>\n",
              "      <td>21st Century Wire says Al Jazeera America will...</td>\n",
              "      <td>Middle-east</td>\n",
              "      <td>January 14, 2016</td>\n",
              "      <td>0</td>\n",
              "    </tr>\n",
              "    <tr>\n",
              "      <th>23480</th>\n",
              "      <td>10 U.S. Navy Sailors Held by Iranian Military ...</td>\n",
              "      <td>21st Century Wire says As 21WIRE predicted in ...</td>\n",
              "      <td>Middle-east</td>\n",
              "      <td>January 12, 2016</td>\n",
              "      <td>0</td>\n",
              "    </tr>\n",
              "  </tbody>\n",
              "</table>\n",
              "<p>23481 rows × 5 columns</p>\n",
              "</div>"
            ],
            "text/plain": [
              "                                                   title  ... flag\n",
              "0       Donald Trump Sends Out Embarrassing New Year’...  ...    0\n",
              "1       Drunk Bragging Trump Staffer Started Russian ...  ...    0\n",
              "2       Sheriff David Clarke Becomes An Internet Joke...  ...    0\n",
              "3       Trump Is So Obsessed He Even Has Obama’s Name...  ...    0\n",
              "4       Pope Francis Just Called Out Donald Trump Dur...  ...    0\n",
              "...                                                  ...  ...  ...\n",
              "23476  McPain: John McCain Furious That Iran Treated ...  ...    0\n",
              "23477  JUSTICE? Yahoo Settles E-mail Privacy Class-ac...  ...    0\n",
              "23478  Sunnistan: US and Allied ‘Safe Zone’ Plan to T...  ...    0\n",
              "23479  How to Blow $700 Million: Al Jazeera America F...  ...    0\n",
              "23480  10 U.S. Navy Sailors Held by Iranian Military ...  ...    0\n",
              "\n",
              "[23481 rows x 5 columns]"
            ]
          },
          "metadata": {
            "tags": []
          },
          "execution_count": 9
        }
      ]
    },
    {
      "cell_type": "code",
      "metadata": {
        "id": "pretty-responsibility",
        "colab": {
          "base_uri": "https://localhost:8080/",
          "height": 417
        },
        "outputId": "02721e4b-dced-4c8a-c721-51a1b6a915b7"
      },
      "source": [
        "real_news = pd.read_csv('True.csv')\n",
        "real_news"
      ],
      "id": "pretty-responsibility",
      "execution_count": 10,
      "outputs": [
        {
          "output_type": "execute_result",
          "data": {
            "text/html": [
              "<div>\n",
              "<style scoped>\n",
              "    .dataframe tbody tr th:only-of-type {\n",
              "        vertical-align: middle;\n",
              "    }\n",
              "\n",
              "    .dataframe tbody tr th {\n",
              "        vertical-align: top;\n",
              "    }\n",
              "\n",
              "    .dataframe thead th {\n",
              "        text-align: right;\n",
              "    }\n",
              "</style>\n",
              "<table border=\"1\" class=\"dataframe\">\n",
              "  <thead>\n",
              "    <tr style=\"text-align: right;\">\n",
              "      <th></th>\n",
              "      <th>title</th>\n",
              "      <th>text</th>\n",
              "      <th>subject</th>\n",
              "      <th>date</th>\n",
              "    </tr>\n",
              "  </thead>\n",
              "  <tbody>\n",
              "    <tr>\n",
              "      <th>0</th>\n",
              "      <td>As U.S. budget fight looms, Republicans flip t...</td>\n",
              "      <td>WASHINGTON (Reuters) - The head of a conservat...</td>\n",
              "      <td>politicsNews</td>\n",
              "      <td>December 31, 2017</td>\n",
              "    </tr>\n",
              "    <tr>\n",
              "      <th>1</th>\n",
              "      <td>U.S. military to accept transgender recruits o...</td>\n",
              "      <td>WASHINGTON (Reuters) - Transgender people will...</td>\n",
              "      <td>politicsNews</td>\n",
              "      <td>December 29, 2017</td>\n",
              "    </tr>\n",
              "    <tr>\n",
              "      <th>2</th>\n",
              "      <td>Senior U.S. Republican senator: 'Let Mr. Muell...</td>\n",
              "      <td>WASHINGTON (Reuters) - The special counsel inv...</td>\n",
              "      <td>politicsNews</td>\n",
              "      <td>December 31, 2017</td>\n",
              "    </tr>\n",
              "    <tr>\n",
              "      <th>3</th>\n",
              "      <td>FBI Russia probe helped by Australian diplomat...</td>\n",
              "      <td>WASHINGTON (Reuters) - Trump campaign adviser ...</td>\n",
              "      <td>politicsNews</td>\n",
              "      <td>December 30, 2017</td>\n",
              "    </tr>\n",
              "    <tr>\n",
              "      <th>4</th>\n",
              "      <td>Trump wants Postal Service to charge 'much mor...</td>\n",
              "      <td>SEATTLE/WASHINGTON (Reuters) - President Donal...</td>\n",
              "      <td>politicsNews</td>\n",
              "      <td>December 29, 2017</td>\n",
              "    </tr>\n",
              "    <tr>\n",
              "      <th>...</th>\n",
              "      <td>...</td>\n",
              "      <td>...</td>\n",
              "      <td>...</td>\n",
              "      <td>...</td>\n",
              "    </tr>\n",
              "    <tr>\n",
              "      <th>21412</th>\n",
              "      <td>'Fully committed' NATO backs new U.S. approach...</td>\n",
              "      <td>BRUSSELS (Reuters) - NATO allies on Tuesday we...</td>\n",
              "      <td>worldnews</td>\n",
              "      <td>August 22, 2017</td>\n",
              "    </tr>\n",
              "    <tr>\n",
              "      <th>21413</th>\n",
              "      <td>LexisNexis withdrew two products from Chinese ...</td>\n",
              "      <td>LONDON (Reuters) - LexisNexis, a provider of l...</td>\n",
              "      <td>worldnews</td>\n",
              "      <td>August 22, 2017</td>\n",
              "    </tr>\n",
              "    <tr>\n",
              "      <th>21414</th>\n",
              "      <td>Minsk cultural hub becomes haven from authorities</td>\n",
              "      <td>MINSK (Reuters) - In the shadow of disused Sov...</td>\n",
              "      <td>worldnews</td>\n",
              "      <td>August 22, 2017</td>\n",
              "    </tr>\n",
              "    <tr>\n",
              "      <th>21415</th>\n",
              "      <td>Vatican upbeat on possibility of Pope Francis ...</td>\n",
              "      <td>MOSCOW (Reuters) - Vatican Secretary of State ...</td>\n",
              "      <td>worldnews</td>\n",
              "      <td>August 22, 2017</td>\n",
              "    </tr>\n",
              "    <tr>\n",
              "      <th>21416</th>\n",
              "      <td>Indonesia to buy $1.14 billion worth of Russia...</td>\n",
              "      <td>JAKARTA (Reuters) - Indonesia will buy 11 Sukh...</td>\n",
              "      <td>worldnews</td>\n",
              "      <td>August 22, 2017</td>\n",
              "    </tr>\n",
              "  </tbody>\n",
              "</table>\n",
              "<p>21417 rows × 4 columns</p>\n",
              "</div>"
            ],
            "text/plain": [
              "                                                   title  ...                date\n",
              "0      As U.S. budget fight looms, Republicans flip t...  ...  December 31, 2017 \n",
              "1      U.S. military to accept transgender recruits o...  ...  December 29, 2017 \n",
              "2      Senior U.S. Republican senator: 'Let Mr. Muell...  ...  December 31, 2017 \n",
              "3      FBI Russia probe helped by Australian diplomat...  ...  December 30, 2017 \n",
              "4      Trump wants Postal Service to charge 'much mor...  ...  December 29, 2017 \n",
              "...                                                  ...  ...                 ...\n",
              "21412  'Fully committed' NATO backs new U.S. approach...  ...    August 22, 2017 \n",
              "21413  LexisNexis withdrew two products from Chinese ...  ...    August 22, 2017 \n",
              "21414  Minsk cultural hub becomes haven from authorities  ...    August 22, 2017 \n",
              "21415  Vatican upbeat on possibility of Pope Francis ...  ...    August 22, 2017 \n",
              "21416  Indonesia to buy $1.14 billion worth of Russia...  ...    August 22, 2017 \n",
              "\n",
              "[21417 rows x 4 columns]"
            ]
          },
          "metadata": {
            "tags": []
          },
          "execution_count": 10
        }
      ]
    },
    {
      "cell_type": "code",
      "metadata": {
        "id": "printable-festival",
        "colab": {
          "base_uri": "https://localhost:8080/",
          "height": 417
        },
        "outputId": "60cef098-0396-44ac-8f2a-82ecbeeb77ff"
      },
      "source": [
        "real_news['flag'] = 1\n",
        "real_news"
      ],
      "id": "printable-festival",
      "execution_count": 11,
      "outputs": [
        {
          "output_type": "execute_result",
          "data": {
            "text/html": [
              "<div>\n",
              "<style scoped>\n",
              "    .dataframe tbody tr th:only-of-type {\n",
              "        vertical-align: middle;\n",
              "    }\n",
              "\n",
              "    .dataframe tbody tr th {\n",
              "        vertical-align: top;\n",
              "    }\n",
              "\n",
              "    .dataframe thead th {\n",
              "        text-align: right;\n",
              "    }\n",
              "</style>\n",
              "<table border=\"1\" class=\"dataframe\">\n",
              "  <thead>\n",
              "    <tr style=\"text-align: right;\">\n",
              "      <th></th>\n",
              "      <th>title</th>\n",
              "      <th>text</th>\n",
              "      <th>subject</th>\n",
              "      <th>date</th>\n",
              "      <th>flag</th>\n",
              "    </tr>\n",
              "  </thead>\n",
              "  <tbody>\n",
              "    <tr>\n",
              "      <th>0</th>\n",
              "      <td>As U.S. budget fight looms, Republicans flip t...</td>\n",
              "      <td>WASHINGTON (Reuters) - The head of a conservat...</td>\n",
              "      <td>politicsNews</td>\n",
              "      <td>December 31, 2017</td>\n",
              "      <td>1</td>\n",
              "    </tr>\n",
              "    <tr>\n",
              "      <th>1</th>\n",
              "      <td>U.S. military to accept transgender recruits o...</td>\n",
              "      <td>WASHINGTON (Reuters) - Transgender people will...</td>\n",
              "      <td>politicsNews</td>\n",
              "      <td>December 29, 2017</td>\n",
              "      <td>1</td>\n",
              "    </tr>\n",
              "    <tr>\n",
              "      <th>2</th>\n",
              "      <td>Senior U.S. Republican senator: 'Let Mr. Muell...</td>\n",
              "      <td>WASHINGTON (Reuters) - The special counsel inv...</td>\n",
              "      <td>politicsNews</td>\n",
              "      <td>December 31, 2017</td>\n",
              "      <td>1</td>\n",
              "    </tr>\n",
              "    <tr>\n",
              "      <th>3</th>\n",
              "      <td>FBI Russia probe helped by Australian diplomat...</td>\n",
              "      <td>WASHINGTON (Reuters) - Trump campaign adviser ...</td>\n",
              "      <td>politicsNews</td>\n",
              "      <td>December 30, 2017</td>\n",
              "      <td>1</td>\n",
              "    </tr>\n",
              "    <tr>\n",
              "      <th>4</th>\n",
              "      <td>Trump wants Postal Service to charge 'much mor...</td>\n",
              "      <td>SEATTLE/WASHINGTON (Reuters) - President Donal...</td>\n",
              "      <td>politicsNews</td>\n",
              "      <td>December 29, 2017</td>\n",
              "      <td>1</td>\n",
              "    </tr>\n",
              "    <tr>\n",
              "      <th>...</th>\n",
              "      <td>...</td>\n",
              "      <td>...</td>\n",
              "      <td>...</td>\n",
              "      <td>...</td>\n",
              "      <td>...</td>\n",
              "    </tr>\n",
              "    <tr>\n",
              "      <th>21412</th>\n",
              "      <td>'Fully committed' NATO backs new U.S. approach...</td>\n",
              "      <td>BRUSSELS (Reuters) - NATO allies on Tuesday we...</td>\n",
              "      <td>worldnews</td>\n",
              "      <td>August 22, 2017</td>\n",
              "      <td>1</td>\n",
              "    </tr>\n",
              "    <tr>\n",
              "      <th>21413</th>\n",
              "      <td>LexisNexis withdrew two products from Chinese ...</td>\n",
              "      <td>LONDON (Reuters) - LexisNexis, a provider of l...</td>\n",
              "      <td>worldnews</td>\n",
              "      <td>August 22, 2017</td>\n",
              "      <td>1</td>\n",
              "    </tr>\n",
              "    <tr>\n",
              "      <th>21414</th>\n",
              "      <td>Minsk cultural hub becomes haven from authorities</td>\n",
              "      <td>MINSK (Reuters) - In the shadow of disused Sov...</td>\n",
              "      <td>worldnews</td>\n",
              "      <td>August 22, 2017</td>\n",
              "      <td>1</td>\n",
              "    </tr>\n",
              "    <tr>\n",
              "      <th>21415</th>\n",
              "      <td>Vatican upbeat on possibility of Pope Francis ...</td>\n",
              "      <td>MOSCOW (Reuters) - Vatican Secretary of State ...</td>\n",
              "      <td>worldnews</td>\n",
              "      <td>August 22, 2017</td>\n",
              "      <td>1</td>\n",
              "    </tr>\n",
              "    <tr>\n",
              "      <th>21416</th>\n",
              "      <td>Indonesia to buy $1.14 billion worth of Russia...</td>\n",
              "      <td>JAKARTA (Reuters) - Indonesia will buy 11 Sukh...</td>\n",
              "      <td>worldnews</td>\n",
              "      <td>August 22, 2017</td>\n",
              "      <td>1</td>\n",
              "    </tr>\n",
              "  </tbody>\n",
              "</table>\n",
              "<p>21417 rows × 5 columns</p>\n",
              "</div>"
            ],
            "text/plain": [
              "                                                   title  ... flag\n",
              "0      As U.S. budget fight looms, Republicans flip t...  ...    1\n",
              "1      U.S. military to accept transgender recruits o...  ...    1\n",
              "2      Senior U.S. Republican senator: 'Let Mr. Muell...  ...    1\n",
              "3      FBI Russia probe helped by Australian diplomat...  ...    1\n",
              "4      Trump wants Postal Service to charge 'much mor...  ...    1\n",
              "...                                                  ...  ...  ...\n",
              "21412  'Fully committed' NATO backs new U.S. approach...  ...    1\n",
              "21413  LexisNexis withdrew two products from Chinese ...  ...    1\n",
              "21414  Minsk cultural hub becomes haven from authorities  ...    1\n",
              "21415  Vatican upbeat on possibility of Pope Francis ...  ...    1\n",
              "21416  Indonesia to buy $1.14 billion worth of Russia...  ...    1\n",
              "\n",
              "[21417 rows x 5 columns]"
            ]
          },
          "metadata": {
            "tags": []
          },
          "execution_count": 11
        }
      ]
    },
    {
      "cell_type": "code",
      "metadata": {
        "id": "australian-basement",
        "colab": {
          "base_uri": "https://localhost:8080/",
          "height": 417
        },
        "outputId": "d20a8f8c-0444-4045-9e9d-14493123530a"
      },
      "source": [
        "# concatenating fake_news and real_news\n",
        "news = [fake_news, real_news]\n",
        "news  = pd.concat(news, ignore_index=True)\n",
        "news"
      ],
      "id": "australian-basement",
      "execution_count": 12,
      "outputs": [
        {
          "output_type": "execute_result",
          "data": {
            "text/html": [
              "<div>\n",
              "<style scoped>\n",
              "    .dataframe tbody tr th:only-of-type {\n",
              "        vertical-align: middle;\n",
              "    }\n",
              "\n",
              "    .dataframe tbody tr th {\n",
              "        vertical-align: top;\n",
              "    }\n",
              "\n",
              "    .dataframe thead th {\n",
              "        text-align: right;\n",
              "    }\n",
              "</style>\n",
              "<table border=\"1\" class=\"dataframe\">\n",
              "  <thead>\n",
              "    <tr style=\"text-align: right;\">\n",
              "      <th></th>\n",
              "      <th>title</th>\n",
              "      <th>text</th>\n",
              "      <th>subject</th>\n",
              "      <th>date</th>\n",
              "      <th>flag</th>\n",
              "    </tr>\n",
              "  </thead>\n",
              "  <tbody>\n",
              "    <tr>\n",
              "      <th>0</th>\n",
              "      <td>Donald Trump Sends Out Embarrassing New Year’...</td>\n",
              "      <td>Donald Trump just couldn t wish all Americans ...</td>\n",
              "      <td>News</td>\n",
              "      <td>December 31, 2017</td>\n",
              "      <td>0</td>\n",
              "    </tr>\n",
              "    <tr>\n",
              "      <th>1</th>\n",
              "      <td>Drunk Bragging Trump Staffer Started Russian ...</td>\n",
              "      <td>House Intelligence Committee Chairman Devin Nu...</td>\n",
              "      <td>News</td>\n",
              "      <td>December 31, 2017</td>\n",
              "      <td>0</td>\n",
              "    </tr>\n",
              "    <tr>\n",
              "      <th>2</th>\n",
              "      <td>Sheriff David Clarke Becomes An Internet Joke...</td>\n",
              "      <td>On Friday, it was revealed that former Milwauk...</td>\n",
              "      <td>News</td>\n",
              "      <td>December 30, 2017</td>\n",
              "      <td>0</td>\n",
              "    </tr>\n",
              "    <tr>\n",
              "      <th>3</th>\n",
              "      <td>Trump Is So Obsessed He Even Has Obama’s Name...</td>\n",
              "      <td>On Christmas day, Donald Trump announced that ...</td>\n",
              "      <td>News</td>\n",
              "      <td>December 29, 2017</td>\n",
              "      <td>0</td>\n",
              "    </tr>\n",
              "    <tr>\n",
              "      <th>4</th>\n",
              "      <td>Pope Francis Just Called Out Donald Trump Dur...</td>\n",
              "      <td>Pope Francis used his annual Christmas Day mes...</td>\n",
              "      <td>News</td>\n",
              "      <td>December 25, 2017</td>\n",
              "      <td>0</td>\n",
              "    </tr>\n",
              "    <tr>\n",
              "      <th>...</th>\n",
              "      <td>...</td>\n",
              "      <td>...</td>\n",
              "      <td>...</td>\n",
              "      <td>...</td>\n",
              "      <td>...</td>\n",
              "    </tr>\n",
              "    <tr>\n",
              "      <th>44893</th>\n",
              "      <td>'Fully committed' NATO backs new U.S. approach...</td>\n",
              "      <td>BRUSSELS (Reuters) - NATO allies on Tuesday we...</td>\n",
              "      <td>worldnews</td>\n",
              "      <td>August 22, 2017</td>\n",
              "      <td>1</td>\n",
              "    </tr>\n",
              "    <tr>\n",
              "      <th>44894</th>\n",
              "      <td>LexisNexis withdrew two products from Chinese ...</td>\n",
              "      <td>LONDON (Reuters) - LexisNexis, a provider of l...</td>\n",
              "      <td>worldnews</td>\n",
              "      <td>August 22, 2017</td>\n",
              "      <td>1</td>\n",
              "    </tr>\n",
              "    <tr>\n",
              "      <th>44895</th>\n",
              "      <td>Minsk cultural hub becomes haven from authorities</td>\n",
              "      <td>MINSK (Reuters) - In the shadow of disused Sov...</td>\n",
              "      <td>worldnews</td>\n",
              "      <td>August 22, 2017</td>\n",
              "      <td>1</td>\n",
              "    </tr>\n",
              "    <tr>\n",
              "      <th>44896</th>\n",
              "      <td>Vatican upbeat on possibility of Pope Francis ...</td>\n",
              "      <td>MOSCOW (Reuters) - Vatican Secretary of State ...</td>\n",
              "      <td>worldnews</td>\n",
              "      <td>August 22, 2017</td>\n",
              "      <td>1</td>\n",
              "    </tr>\n",
              "    <tr>\n",
              "      <th>44897</th>\n",
              "      <td>Indonesia to buy $1.14 billion worth of Russia...</td>\n",
              "      <td>JAKARTA (Reuters) - Indonesia will buy 11 Sukh...</td>\n",
              "      <td>worldnews</td>\n",
              "      <td>August 22, 2017</td>\n",
              "      <td>1</td>\n",
              "    </tr>\n",
              "  </tbody>\n",
              "</table>\n",
              "<p>44898 rows × 5 columns</p>\n",
              "</div>"
            ],
            "text/plain": [
              "                                                   title  ... flag\n",
              "0       Donald Trump Sends Out Embarrassing New Year’...  ...    0\n",
              "1       Drunk Bragging Trump Staffer Started Russian ...  ...    0\n",
              "2       Sheriff David Clarke Becomes An Internet Joke...  ...    0\n",
              "3       Trump Is So Obsessed He Even Has Obama’s Name...  ...    0\n",
              "4       Pope Francis Just Called Out Donald Trump Dur...  ...    0\n",
              "...                                                  ...  ...  ...\n",
              "44893  'Fully committed' NATO backs new U.S. approach...  ...    1\n",
              "44894  LexisNexis withdrew two products from Chinese ...  ...    1\n",
              "44895  Minsk cultural hub becomes haven from authorities  ...    1\n",
              "44896  Vatican upbeat on possibility of Pope Francis ...  ...    1\n",
              "44897  Indonesia to buy $1.14 billion worth of Russia...  ...    1\n",
              "\n",
              "[44898 rows x 5 columns]"
            ]
          },
          "metadata": {
            "tags": []
          },
          "execution_count": 12
        }
      ]
    },
    {
      "cell_type": "code",
      "metadata": {
        "scrolled": false,
        "id": "mighty-pressing",
        "colab": {
          "base_uri": "https://localhost:8080/",
          "height": 417
        },
        "outputId": "b64aebbf-e8b1-4fda-93d6-bd251ccb17cd"
      },
      "source": [
        "# shuffle dataset\n",
        "news = news.sample(frac=1 )\n",
        "news"
      ],
      "id": "mighty-pressing",
      "execution_count": 14,
      "outputs": [
        {
          "output_type": "execute_result",
          "data": {
            "text/html": [
              "<div>\n",
              "<style scoped>\n",
              "    .dataframe tbody tr th:only-of-type {\n",
              "        vertical-align: middle;\n",
              "    }\n",
              "\n",
              "    .dataframe tbody tr th {\n",
              "        vertical-align: top;\n",
              "    }\n",
              "\n",
              "    .dataframe thead th {\n",
              "        text-align: right;\n",
              "    }\n",
              "</style>\n",
              "<table border=\"1\" class=\"dataframe\">\n",
              "  <thead>\n",
              "    <tr style=\"text-align: right;\">\n",
              "      <th></th>\n",
              "      <th>title</th>\n",
              "      <th>text</th>\n",
              "      <th>subject</th>\n",
              "      <th>date</th>\n",
              "      <th>flag</th>\n",
              "    </tr>\n",
              "  </thead>\n",
              "  <tbody>\n",
              "    <tr>\n",
              "      <th>39742</th>\n",
              "      <td>Exclusive: Death certificate offers clues on R...</td>\n",
              "      <td>MOSCOW (Reuters) - An official document seen b...</td>\n",
              "      <td>worldnews</td>\n",
              "      <td>October 27, 2017</td>\n",
              "      <td>1</td>\n",
              "    </tr>\n",
              "    <tr>\n",
              "      <th>43510</th>\n",
              "      <td>Japan foreign minister thinks North Korea miss...</td>\n",
              "      <td>TOKYO (Reuters) - Japanese Foreign Minister Ta...</td>\n",
              "      <td>worldnews</td>\n",
              "      <td>September 14, 2017</td>\n",
              "      <td>1</td>\n",
              "    </tr>\n",
              "    <tr>\n",
              "      <th>9304</th>\n",
              "      <td>JOHN CONYERS’ LAWYER Threatens ‘If This Nonsen...</td>\n",
              "      <td>Rep. John Conyers  lawyer, Arnold Reed, threat...</td>\n",
              "      <td>politics</td>\n",
              "      <td>Dec 1, 2017</td>\n",
              "      <td>0</td>\n",
              "    </tr>\n",
              "    <tr>\n",
              "      <th>13024</th>\n",
              "      <td>BREAKING: MORE HACKED E-MAILS From DNC Release...</td>\n",
              "      <td>It s not the first time that the name of Vladi...</td>\n",
              "      <td>politics</td>\n",
              "      <td>Sep 13, 2016</td>\n",
              "      <td>0</td>\n",
              "    </tr>\n",
              "    <tr>\n",
              "      <th>8014</th>\n",
              "      <td>KARMA: Conservative Group’s Plan To Sabotage ...</td>\n",
              "      <td>Thanks to a conservative group that tried to r...</td>\n",
              "      <td>News</td>\n",
              "      <td>February 18, 2016</td>\n",
              "      <td>0</td>\n",
              "    </tr>\n",
              "    <tr>\n",
              "      <th>...</th>\n",
              "      <td>...</td>\n",
              "      <td>...</td>\n",
              "      <td>...</td>\n",
              "      <td>...</td>\n",
              "      <td>...</td>\n",
              "    </tr>\n",
              "    <tr>\n",
              "      <th>14871</th>\n",
              "      <td>The American Energy Success Story Obama Won’t ...</td>\n",
              "      <td>Obama has waisted billions on green energy but...</td>\n",
              "      <td>politics</td>\n",
              "      <td>Nov 29, 2015</td>\n",
              "      <td>0</td>\n",
              "    </tr>\n",
              "    <tr>\n",
              "      <th>1267</th>\n",
              "      <td>Kellyanne Conway’s Husband Blasts Trump’s Tra...</td>\n",
              "      <td>Kellyanne Conway may still be loyal to Donald ...</td>\n",
              "      <td>News</td>\n",
              "      <td>June 5, 2017</td>\n",
              "      <td>0</td>\n",
              "    </tr>\n",
              "    <tr>\n",
              "      <th>38059</th>\n",
              "      <td>China, Russia to hold simulated anti-missile d...</td>\n",
              "      <td>BEIJING (Reuters) - The Chinese and Russian mi...</td>\n",
              "      <td>worldnews</td>\n",
              "      <td>November 17, 2017</td>\n",
              "      <td>1</td>\n",
              "    </tr>\n",
              "    <tr>\n",
              "      <th>14235</th>\n",
              "      <td>“YOU’RE HIRED!” Trump Pulls Unemployed Vet Fro...</td>\n",
              "      <td>No matter which candidate you support, this mo...</td>\n",
              "      <td>politics</td>\n",
              "      <td>Mar 21, 2016</td>\n",
              "      <td>0</td>\n",
              "    </tr>\n",
              "    <tr>\n",
              "      <th>11956</th>\n",
              "      <td>MERYL STREEP PROBABLY FORGOT The Time Obama Ac...</td>\n",
              "      <td>Streep s shameful attempt to paint Trump as a ...</td>\n",
              "      <td>politics</td>\n",
              "      <td>Jan 10, 2017</td>\n",
              "      <td>0</td>\n",
              "    </tr>\n",
              "  </tbody>\n",
              "</table>\n",
              "<p>44898 rows × 5 columns</p>\n",
              "</div>"
            ],
            "text/plain": [
              "                                                   title  ... flag\n",
              "39742  Exclusive: Death certificate offers clues on R...  ...    1\n",
              "43510  Japan foreign minister thinks North Korea miss...  ...    1\n",
              "9304   JOHN CONYERS’ LAWYER Threatens ‘If This Nonsen...  ...    0\n",
              "13024  BREAKING: MORE HACKED E-MAILS From DNC Release...  ...    0\n",
              "8014    KARMA: Conservative Group’s Plan To Sabotage ...  ...    0\n",
              "...                                                  ...  ...  ...\n",
              "14871  The American Energy Success Story Obama Won’t ...  ...    0\n",
              "1267    Kellyanne Conway’s Husband Blasts Trump’s Tra...  ...    0\n",
              "38059  China, Russia to hold simulated anti-missile d...  ...    1\n",
              "14235  “YOU’RE HIRED!” Trump Pulls Unemployed Vet Fro...  ...    0\n",
              "11956  MERYL STREEP PROBABLY FORGOT The Time Obama Ac...  ...    0\n",
              "\n",
              "[44898 rows x 5 columns]"
            ]
          },
          "metadata": {
            "tags": []
          },
          "execution_count": 14
        }
      ]
    },
    {
      "cell_type": "markdown",
      "metadata": {
        "id": "established-stockholm"
      },
      "source": [
        "### Data Visualization"
      ],
      "id": "established-stockholm"
    },
    {
      "cell_type": "code",
      "metadata": {
        "scrolled": true,
        "id": "prospective-repository",
        "colab": {
          "base_uri": "https://localhost:8080/",
          "height": 296
        },
        "outputId": "6e0a6983-4f73-4ec2-c065-0d4b8d2a1507"
      },
      "source": [
        "import seaborn as sns\n",
        "sns.countplot(y = \"subject\", data = news)"
      ],
      "id": "prospective-repository",
      "execution_count": 15,
      "outputs": [
        {
          "output_type": "execute_result",
          "data": {
            "text/plain": [
              "<matplotlib.axes._subplots.AxesSubplot at 0x7fa71b0469d0>"
            ]
          },
          "metadata": {
            "tags": []
          },
          "execution_count": 15
        },
        {
          "output_type": "display_data",
          "data": {
            "image/png": "[encoded data removed]",
            "text/plain": [
              "<Figure size 432x288 with 1 Axes>"
            ]
          },
          "metadata": {
            "tags": [],
            "needs_background": "light"
          }
        }
      ]
    },
    {
      "cell_type": "code",
      "metadata": {
        "id": "fitting-industry",
        "colab": {
          "base_uri": "https://localhost:8080/",
          "height": 417
        },
        "outputId": "1832e148-7783-4129-9c1b-0cdd60e2e9e5"
      },
      "source": [
        "# save data for manual verification of model\n",
        "\n",
        "news_manual_testing = news.tail(20)\n",
        "news_manual_testing.to_csv('news_manual_testing')\n",
        "news.drop(news.tail(20).index,inplace=True) # drop last n rows\n",
        "news"
      ],
      "id": "fitting-industry",
      "execution_count": 16,
      "outputs": [
        {
          "output_type": "execute_result",
          "data": {
            "text/html": [
              "<div>\n",
              "<style scoped>\n",
              "    .dataframe tbody tr th:only-of-type {\n",
              "        vertical-align: middle;\n",
              "    }\n",
              "\n",
              "    .dataframe tbody tr th {\n",
              "        vertical-align: top;\n",
              "    }\n",
              "\n",
              "    .dataframe thead th {\n",
              "        text-align: right;\n",
              "    }\n",
              "</style>\n",
              "<table border=\"1\" class=\"dataframe\">\n",
              "  <thead>\n",
              "    <tr style=\"text-align: right;\">\n",
              "      <th></th>\n",
              "      <th>title</th>\n",
              "      <th>text</th>\n",
              "      <th>subject</th>\n",
              "      <th>date</th>\n",
              "      <th>flag</th>\n",
              "    </tr>\n",
              "  </thead>\n",
              "  <tbody>\n",
              "    <tr>\n",
              "      <th>39742</th>\n",
              "      <td>Exclusive: Death certificate offers clues on R...</td>\n",
              "      <td>MOSCOW (Reuters) - An official document seen b...</td>\n",
              "      <td>worldnews</td>\n",
              "      <td>October 27, 2017</td>\n",
              "      <td>1</td>\n",
              "    </tr>\n",
              "    <tr>\n",
              "      <th>43510</th>\n",
              "      <td>Japan foreign minister thinks North Korea miss...</td>\n",
              "      <td>TOKYO (Reuters) - Japanese Foreign Minister Ta...</td>\n",
              "      <td>worldnews</td>\n",
              "      <td>September 14, 2017</td>\n",
              "      <td>1</td>\n",
              "    </tr>\n",
              "    <tr>\n",
              "      <th>9304</th>\n",
              "      <td>JOHN CONYERS’ LAWYER Threatens ‘If This Nonsen...</td>\n",
              "      <td>Rep. John Conyers  lawyer, Arnold Reed, threat...</td>\n",
              "      <td>politics</td>\n",
              "      <td>Dec 1, 2017</td>\n",
              "      <td>0</td>\n",
              "    </tr>\n",
              "    <tr>\n",
              "      <th>13024</th>\n",
              "      <td>BREAKING: MORE HACKED E-MAILS From DNC Release...</td>\n",
              "      <td>It s not the first time that the name of Vladi...</td>\n",
              "      <td>politics</td>\n",
              "      <td>Sep 13, 2016</td>\n",
              "      <td>0</td>\n",
              "    </tr>\n",
              "    <tr>\n",
              "      <th>8014</th>\n",
              "      <td>KARMA: Conservative Group’s Plan To Sabotage ...</td>\n",
              "      <td>Thanks to a conservative group that tried to r...</td>\n",
              "      <td>News</td>\n",
              "      <td>February 18, 2016</td>\n",
              "      <td>0</td>\n",
              "    </tr>\n",
              "    <tr>\n",
              "      <th>...</th>\n",
              "      <td>...</td>\n",
              "      <td>...</td>\n",
              "      <td>...</td>\n",
              "      <td>...</td>\n",
              "      <td>...</td>\n",
              "    </tr>\n",
              "    <tr>\n",
              "      <th>18394</th>\n",
              "      <td>TRUMP DRIVES CRITICS CRAZY: Eliminates Obama’s...</td>\n",
              "      <td>Meanwhile, back at CNN Russia Russia Russia!Th...</td>\n",
              "      <td>left-news</td>\n",
              "      <td>Jul 2, 2017</td>\n",
              "      <td>0</td>\n",
              "    </tr>\n",
              "    <tr>\n",
              "      <th>36515</th>\n",
              "      <td>Turkey says declaring Jerusalem Israel's capit...</td>\n",
              "      <td>ANKARA (Reuters) - The Turkish government s sp...</td>\n",
              "      <td>worldnews</td>\n",
              "      <td>December 6, 2017</td>\n",
              "      <td>1</td>\n",
              "    </tr>\n",
              "    <tr>\n",
              "      <th>29150</th>\n",
              "      <td>Labor Dept. looks into delaying fiduciary rule...</td>\n",
              "      <td>WASHINGTON (Reuters) - The U.S. Labor Departme...</td>\n",
              "      <td>politicsNews</td>\n",
              "      <td>February 3, 2017</td>\n",
              "      <td>1</td>\n",
              "    </tr>\n",
              "    <tr>\n",
              "      <th>34585</th>\n",
              "      <td>Trump says U.S. economy in a 'bubble' he doesn...</td>\n",
              "      <td>WASHINGTON (Reuters) - Republican presidential...</td>\n",
              "      <td>politicsNews</td>\n",
              "      <td>January 26, 2016</td>\n",
              "      <td>1</td>\n",
              "    </tr>\n",
              "    <tr>\n",
              "      <th>38089</th>\n",
              "      <td>Zimbabwe's Mugabe, coup chief meet with smiles...</td>\n",
              "      <td>HARARE (Reuters) - A smiling President Robert ...</td>\n",
              "      <td>worldnews</td>\n",
              "      <td>November 16, 2017</td>\n",
              "      <td>1</td>\n",
              "    </tr>\n",
              "  </tbody>\n",
              "</table>\n",
              "<p>44878 rows × 5 columns</p>\n",
              "</div>"
            ],
            "text/plain": [
              "                                                   title  ... flag\n",
              "39742  Exclusive: Death certificate offers clues on R...  ...    1\n",
              "43510  Japan foreign minister thinks North Korea miss...  ...    1\n",
              "9304   JOHN CONYERS’ LAWYER Threatens ‘If This Nonsen...  ...    0\n",
              "13024  BREAKING: MORE HACKED E-MAILS From DNC Release...  ...    0\n",
              "8014    KARMA: Conservative Group’s Plan To Sabotage ...  ...    0\n",
              "...                                                  ...  ...  ...\n",
              "18394  TRUMP DRIVES CRITICS CRAZY: Eliminates Obama’s...  ...    0\n",
              "36515  Turkey says declaring Jerusalem Israel's capit...  ...    1\n",
              "29150  Labor Dept. looks into delaying fiduciary rule...  ...    1\n",
              "34585  Trump says U.S. economy in a 'bubble' he doesn...  ...    1\n",
              "38089  Zimbabwe's Mugabe, coup chief meet with smiles...  ...    1\n",
              "\n",
              "[44878 rows x 5 columns]"
            ]
          },
          "metadata": {
            "tags": []
          },
          "execution_count": 16
        }
      ]
    },
    {
      "cell_type": "markdown",
      "metadata": {
        "id": "incoming-enclosure"
      },
      "source": [
        "### Data Cleaning"
      ],
      "id": "incoming-enclosure"
    },
    {
      "cell_type": "code",
      "metadata": {
        "scrolled": false,
        "id": "complimentary-outdoors",
        "colab": {
          "base_uri": "https://localhost:8080/"
        },
        "outputId": "f987629a-2094-4cc1-c753-597a74647e6c"
      },
      "source": [
        "# remove duplicate\n",
        "news = news.drop_duplicates()\n",
        "news.shape"
      ],
      "id": "complimentary-outdoors",
      "execution_count": 17,
      "outputs": [
        {
          "output_type": "execute_result",
          "data": {
            "text/plain": [
              "(44669, 5)"
            ]
          },
          "metadata": {
            "tags": []
          },
          "execution_count": 17
        }
      ]
    },
    {
      "cell_type": "code",
      "metadata": {
        "id": "north-utility",
        "colab": {
          "base_uri": "https://localhost:8080/",
          "height": 686
        },
        "outputId": "54add197-47cd-4bd6-e74e-eb01ae4002b8"
      },
      "source": [
        "# merge subject, title and text to get complete news text data\n",
        "news['news_data'] = news['subject'] + news['title'] + news['text']\n",
        "news"
      ],
      "id": "north-utility",
      "execution_count": 18,
      "outputs": [
        {
          "output_type": "stream",
          "text": [
            "/usr/local/lib/python3.7/dist-packages/ipykernel_launcher.py:2: SettingWithCopyWarning: \n",
            "A value is trying to be set on a copy of a slice from a DataFrame.\n",
            "Try using .loc[row_indexer,col_indexer] = value instead\n",
            "\n",
            "See the caveats in the documentation: https://pandas.pydata.org/pandas-docs/stable/user_guide/indexing.html#returning-a-view-versus-a-copy\n",
            "  \n"
          ],
          "name": "stderr"
        },
        {
          "output_type": "execute_result",
          "data": {
            "text/html": [
              "<div>\n",
              "<style scoped>\n",
              "    .dataframe tbody tr th:only-of-type {\n",
              "        vertical-align: middle;\n",
              "    }\n",
              "\n",
              "    .dataframe tbody tr th {\n",
              "        vertical-align: top;\n",
              "    }\n",
              "\n",
              "    .dataframe thead th {\n",
              "        text-align: right;\n",
              "    }\n",
              "</style>\n",
              "<table border=\"1\" class=\"dataframe\">\n",
              "  <thead>\n",
              "    <tr style=\"text-align: right;\">\n",
              "      <th></th>\n",
              "      <th>title</th>\n",
              "      <th>text</th>\n",
              "      <th>subject</th>\n",
              "      <th>date</th>\n",
              "      <th>flag</th>\n",
              "      <th>news_data</th>\n",
              "    </tr>\n",
              "  </thead>\n",
              "  <tbody>\n",
              "    <tr>\n",
              "      <th>39742</th>\n",
              "      <td>Exclusive: Death certificate offers clues on R...</td>\n",
              "      <td>MOSCOW (Reuters) - An official document seen b...</td>\n",
              "      <td>worldnews</td>\n",
              "      <td>October 27, 2017</td>\n",
              "      <td>1</td>\n",
              "      <td>worldnewsExclusive: Death certificate offers c...</td>\n",
              "    </tr>\n",
              "    <tr>\n",
              "      <th>43510</th>\n",
              "      <td>Japan foreign minister thinks North Korea miss...</td>\n",
              "      <td>TOKYO (Reuters) - Japanese Foreign Minister Ta...</td>\n",
              "      <td>worldnews</td>\n",
              "      <td>September 14, 2017</td>\n",
              "      <td>1</td>\n",
              "      <td>worldnewsJapan foreign minister thinks North K...</td>\n",
              "    </tr>\n",
              "    <tr>\n",
              "      <th>9304</th>\n",
              "      <td>JOHN CONYERS’ LAWYER Threatens ‘If This Nonsen...</td>\n",
              "      <td>Rep. John Conyers  lawyer, Arnold Reed, threat...</td>\n",
              "      <td>politics</td>\n",
              "      <td>Dec 1, 2017</td>\n",
              "      <td>0</td>\n",
              "      <td>politicsJOHN CONYERS’ LAWYER Threatens ‘If Thi...</td>\n",
              "    </tr>\n",
              "    <tr>\n",
              "      <th>13024</th>\n",
              "      <td>BREAKING: MORE HACKED E-MAILS From DNC Release...</td>\n",
              "      <td>It s not the first time that the name of Vladi...</td>\n",
              "      <td>politics</td>\n",
              "      <td>Sep 13, 2016</td>\n",
              "      <td>0</td>\n",
              "      <td>politicsBREAKING: MORE HACKED E-MAILS From DNC...</td>\n",
              "    </tr>\n",
              "    <tr>\n",
              "      <th>8014</th>\n",
              "      <td>KARMA: Conservative Group’s Plan To Sabotage ...</td>\n",
              "      <td>Thanks to a conservative group that tried to r...</td>\n",
              "      <td>News</td>\n",
              "      <td>February 18, 2016</td>\n",
              "      <td>0</td>\n",
              "      <td>News KARMA: Conservative Group’s Plan To Sabot...</td>\n",
              "    </tr>\n",
              "    <tr>\n",
              "      <th>...</th>\n",
              "      <td>...</td>\n",
              "      <td>...</td>\n",
              "      <td>...</td>\n",
              "      <td>...</td>\n",
              "      <td>...</td>\n",
              "      <td>...</td>\n",
              "    </tr>\n",
              "    <tr>\n",
              "      <th>18394</th>\n",
              "      <td>TRUMP DRIVES CRITICS CRAZY: Eliminates Obama’s...</td>\n",
              "      <td>Meanwhile, back at CNN Russia Russia Russia!Th...</td>\n",
              "      <td>left-news</td>\n",
              "      <td>Jul 2, 2017</td>\n",
              "      <td>0</td>\n",
              "      <td>left-newsTRUMP DRIVES CRITICS CRAZY: Eliminate...</td>\n",
              "    </tr>\n",
              "    <tr>\n",
              "      <th>36515</th>\n",
              "      <td>Turkey says declaring Jerusalem Israel's capit...</td>\n",
              "      <td>ANKARA (Reuters) - The Turkish government s sp...</td>\n",
              "      <td>worldnews</td>\n",
              "      <td>December 6, 2017</td>\n",
              "      <td>1</td>\n",
              "      <td>worldnewsTurkey says declaring Jerusalem Israe...</td>\n",
              "    </tr>\n",
              "    <tr>\n",
              "      <th>29150</th>\n",
              "      <td>Labor Dept. looks into delaying fiduciary rule...</td>\n",
              "      <td>WASHINGTON (Reuters) - The U.S. Labor Departme...</td>\n",
              "      <td>politicsNews</td>\n",
              "      <td>February 3, 2017</td>\n",
              "      <td>1</td>\n",
              "      <td>politicsNewsLabor Dept. looks into delaying fi...</td>\n",
              "    </tr>\n",
              "    <tr>\n",
              "      <th>34585</th>\n",
              "      <td>Trump says U.S. economy in a 'bubble' he doesn...</td>\n",
              "      <td>WASHINGTON (Reuters) - Republican presidential...</td>\n",
              "      <td>politicsNews</td>\n",
              "      <td>January 26, 2016</td>\n",
              "      <td>1</td>\n",
              "      <td>politicsNewsTrump says U.S. economy in a 'bubb...</td>\n",
              "    </tr>\n",
              "    <tr>\n",
              "      <th>38089</th>\n",
              "      <td>Zimbabwe's Mugabe, coup chief meet with smiles...</td>\n",
              "      <td>HARARE (Reuters) - A smiling President Robert ...</td>\n",
              "      <td>worldnews</td>\n",
              "      <td>November 16, 2017</td>\n",
              "      <td>1</td>\n",
              "      <td>worldnewsZimbabwe's Mugabe, coup chief meet wi...</td>\n",
              "    </tr>\n",
              "  </tbody>\n",
              "</table>\n",
              "<p>44669 rows × 6 columns</p>\n",
              "</div>"
            ],
            "text/plain": [
              "                                                   title  ...                                          news_data\n",
              "39742  Exclusive: Death certificate offers clues on R...  ...  worldnewsExclusive: Death certificate offers c...\n",
              "43510  Japan foreign minister thinks North Korea miss...  ...  worldnewsJapan foreign minister thinks North K...\n",
              "9304   JOHN CONYERS’ LAWYER Threatens ‘If This Nonsen...  ...  politicsJOHN CONYERS’ LAWYER Threatens ‘If Thi...\n",
              "13024  BREAKING: MORE HACKED E-MAILS From DNC Release...  ...  politicsBREAKING: MORE HACKED E-MAILS From DNC...\n",
              "8014    KARMA: Conservative Group’s Plan To Sabotage ...  ...  News KARMA: Conservative Group’s Plan To Sabot...\n",
              "...                                                  ...  ...                                                ...\n",
              "18394  TRUMP DRIVES CRITICS CRAZY: Eliminates Obama’s...  ...  left-newsTRUMP DRIVES CRITICS CRAZY: Eliminate...\n",
              "36515  Turkey says declaring Jerusalem Israel's capit...  ...  worldnewsTurkey says declaring Jerusalem Israe...\n",
              "29150  Labor Dept. looks into delaying fiduciary rule...  ...  politicsNewsLabor Dept. looks into delaying fi...\n",
              "34585  Trump says U.S. economy in a 'bubble' he doesn...  ...  politicsNewsTrump says U.S. economy in a 'bubb...\n",
              "38089  Zimbabwe's Mugabe, coup chief meet with smiles...  ...  worldnewsZimbabwe's Mugabe, coup chief meet wi...\n",
              "\n",
              "[44669 rows x 6 columns]"
            ]
          },
          "metadata": {
            "tags": []
          },
          "execution_count": 18
        }
      ]
    },
    {
      "cell_type": "code",
      "metadata": {
        "id": "biblical-pakistan",
        "colab": {
          "base_uri": "https://localhost:8080/",
          "height": 417
        },
        "outputId": "6770f20d-a6bc-466a-c14b-c4c770866c86"
      },
      "source": [
        "# remove unnecessary data\n",
        "news = news.drop(['subject', 'title', 'text', 'date'], axis=1)\n",
        "news"
      ],
      "id": "biblical-pakistan",
      "execution_count": 19,
      "outputs": [
        {
          "output_type": "execute_result",
          "data": {
            "text/html": [
              "<div>\n",
              "<style scoped>\n",
              "    .dataframe tbody tr th:only-of-type {\n",
              "        vertical-align: middle;\n",
              "    }\n",
              "\n",
              "    .dataframe tbody tr th {\n",
              "        vertical-align: top;\n",
              "    }\n",
              "\n",
              "    .dataframe thead th {\n",
              "        text-align: right;\n",
              "    }\n",
              "</style>\n",
              "<table border=\"1\" class=\"dataframe\">\n",
              "  <thead>\n",
              "    <tr style=\"text-align: right;\">\n",
              "      <th></th>\n",
              "      <th>flag</th>\n",
              "      <th>news_data</th>\n",
              "    </tr>\n",
              "  </thead>\n",
              "  <tbody>\n",
              "    <tr>\n",
              "      <th>39742</th>\n",
              "      <td>1</td>\n",
              "      <td>worldnewsExclusive: Death certificate offers c...</td>\n",
              "    </tr>\n",
              "    <tr>\n",
              "      <th>43510</th>\n",
              "      <td>1</td>\n",
              "      <td>worldnewsJapan foreign minister thinks North K...</td>\n",
              "    </tr>\n",
              "    <tr>\n",
              "      <th>9304</th>\n",
              "      <td>0</td>\n",
              "      <td>politicsJOHN CONYERS’ LAWYER Threatens ‘If Thi...</td>\n",
              "    </tr>\n",
              "    <tr>\n",
              "      <th>13024</th>\n",
              "      <td>0</td>\n",
              "      <td>politicsBREAKING: MORE HACKED E-MAILS From DNC...</td>\n",
              "    </tr>\n",
              "    <tr>\n",
              "      <th>8014</th>\n",
              "      <td>0</td>\n",
              "      <td>News KARMA: Conservative Group’s Plan To Sabot...</td>\n",
              "    </tr>\n",
              "    <tr>\n",
              "      <th>...</th>\n",
              "      <td>...</td>\n",
              "      <td>...</td>\n",
              "    </tr>\n",
              "    <tr>\n",
              "      <th>18394</th>\n",
              "      <td>0</td>\n",
              "      <td>left-newsTRUMP DRIVES CRITICS CRAZY: Eliminate...</td>\n",
              "    </tr>\n",
              "    <tr>\n",
              "      <th>36515</th>\n",
              "      <td>1</td>\n",
              "      <td>worldnewsTurkey says declaring Jerusalem Israe...</td>\n",
              "    </tr>\n",
              "    <tr>\n",
              "      <th>29150</th>\n",
              "      <td>1</td>\n",
              "      <td>politicsNewsLabor Dept. looks into delaying fi...</td>\n",
              "    </tr>\n",
              "    <tr>\n",
              "      <th>34585</th>\n",
              "      <td>1</td>\n",
              "      <td>politicsNewsTrump says U.S. economy in a 'bubb...</td>\n",
              "    </tr>\n",
              "    <tr>\n",
              "      <th>38089</th>\n",
              "      <td>1</td>\n",
              "      <td>worldnewsZimbabwe's Mugabe, coup chief meet wi...</td>\n",
              "    </tr>\n",
              "  </tbody>\n",
              "</table>\n",
              "<p>44669 rows × 2 columns</p>\n",
              "</div>"
            ],
            "text/plain": [
              "       flag                                          news_data\n",
              "39742     1  worldnewsExclusive: Death certificate offers c...\n",
              "43510     1  worldnewsJapan foreign minister thinks North K...\n",
              "9304      0  politicsJOHN CONYERS’ LAWYER Threatens ‘If Thi...\n",
              "13024     0  politicsBREAKING: MORE HACKED E-MAILS From DNC...\n",
              "8014      0  News KARMA: Conservative Group’s Plan To Sabot...\n",
              "...     ...                                                ...\n",
              "18394     0  left-newsTRUMP DRIVES CRITICS CRAZY: Eliminate...\n",
              "36515     1  worldnewsTurkey says declaring Jerusalem Israe...\n",
              "29150     1  politicsNewsLabor Dept. looks into delaying fi...\n",
              "34585     1  politicsNewsTrump says U.S. economy in a 'bubb...\n",
              "38089     1  worldnewsZimbabwe's Mugabe, coup chief meet wi...\n",
              "\n",
              "[44669 rows x 2 columns]"
            ]
          },
          "metadata": {
            "tags": []
          },
          "execution_count": 19
        }
      ]
    },
    {
      "cell_type": "code",
      "metadata": {
        "id": "musical-sewing",
        "colab": {
          "base_uri": "https://localhost:8080/"
        },
        "outputId": "2504fc6f-c762-4c49-8a75-80428b0a7144"
      },
      "source": [
        "# check if there is no null values\n",
        "news.isnull().sum()"
      ],
      "id": "musical-sewing",
      "execution_count": 20,
      "outputs": [
        {
          "output_type": "execute_result",
          "data": {
            "text/plain": [
              "flag         0\n",
              "news_data    0\n",
              "dtype: int64"
            ]
          },
          "metadata": {
            "tags": []
          },
          "execution_count": 20
        }
      ]
    },
    {
      "cell_type": "code",
      "metadata": {
        "id": "prerequisite-google"
      },
      "source": [
        "# function to convert the news text in lowercase and remove punctuation special chars., extra space, urls\n",
        "import re\n",
        "import string\n",
        "def normalize(text):\n",
        "    text = text.lower()\n",
        "    text = re.sub('\\[.*?\\]', '', text)\n",
        "    text = re.sub(\"\\\\W\",\" \",text) \n",
        "    text = re.sub('https?://\\S+|www\\.\\S+', '', text)\n",
        "    text = re.sub('<.*?>+', '', text)\n",
        "    text = re.sub('[%s]' % re.escape(string.punctuation), '', text)\n",
        "    text = re.sub('\\n', '', text)\n",
        "    text = re.sub('\\w*\\d\\w*', '', text)    \n",
        "    return text"
      ],
      "id": "prerequisite-google",
      "execution_count": 22,
      "outputs": []
    },
    {
      "cell_type": "code",
      "metadata": {
        "id": "automotive-flashing",
        "colab": {
          "base_uri": "https://localhost:8080/",
          "height": 417
        },
        "outputId": "46be5e37-6eb1-4025-84ee-762f6270911f"
      },
      "source": [
        "# normalizing news text\n",
        "news[\"news_data\"] = news[\"news_data\"].apply(normalize)\n",
        "news"
      ],
      "id": "automotive-flashing",
      "execution_count": 23,
      "outputs": [
        {
          "output_type": "execute_result",
          "data": {
            "text/html": [
              "<div>\n",
              "<style scoped>\n",
              "    .dataframe tbody tr th:only-of-type {\n",
              "        vertical-align: middle;\n",
              "    }\n",
              "\n",
              "    .dataframe tbody tr th {\n",
              "        vertical-align: top;\n",
              "    }\n",
              "\n",
              "    .dataframe thead th {\n",
              "        text-align: right;\n",
              "    }\n",
              "</style>\n",
              "<table border=\"1\" class=\"dataframe\">\n",
              "  <thead>\n",
              "    <tr style=\"text-align: right;\">\n",
              "      <th></th>\n",
              "      <th>flag</th>\n",
              "      <th>news_data</th>\n",
              "    </tr>\n",
              "  </thead>\n",
              "  <tbody>\n",
              "    <tr>\n",
              "      <th>39742</th>\n",
              "      <td>1</td>\n",
              "      <td>worldnewsexclusive  death certificate offers c...</td>\n",
              "    </tr>\n",
              "    <tr>\n",
              "      <th>43510</th>\n",
              "      <td>1</td>\n",
              "      <td>worldnewsjapan foreign minister thinks north k...</td>\n",
              "    </tr>\n",
              "    <tr>\n",
              "      <th>9304</th>\n",
              "      <td>0</td>\n",
              "      <td>politicsjohn conyers  lawyer threatens  if thi...</td>\n",
              "    </tr>\n",
              "    <tr>\n",
              "      <th>13024</th>\n",
              "      <td>0</td>\n",
              "      <td>politicsbreaking  more hacked e mails from dnc...</td>\n",
              "    </tr>\n",
              "    <tr>\n",
              "      <th>8014</th>\n",
              "      <td>0</td>\n",
              "      <td>news karma  conservative group s plan to sabot...</td>\n",
              "    </tr>\n",
              "    <tr>\n",
              "      <th>...</th>\n",
              "      <td>...</td>\n",
              "      <td>...</td>\n",
              "    </tr>\n",
              "    <tr>\n",
              "      <th>18394</th>\n",
              "      <td>0</td>\n",
              "      <td>left newstrump drives critics crazy  eliminate...</td>\n",
              "    </tr>\n",
              "    <tr>\n",
              "      <th>36515</th>\n",
              "      <td>1</td>\n",
              "      <td>worldnewsturkey says declaring jerusalem israe...</td>\n",
              "    </tr>\n",
              "    <tr>\n",
              "      <th>29150</th>\n",
              "      <td>1</td>\n",
              "      <td>politicsnewslabor dept  looks into delaying fi...</td>\n",
              "    </tr>\n",
              "    <tr>\n",
              "      <th>34585</th>\n",
              "      <td>1</td>\n",
              "      <td>politicsnewstrump says u s  economy in a  bubb...</td>\n",
              "    </tr>\n",
              "    <tr>\n",
              "      <th>38089</th>\n",
              "      <td>1</td>\n",
              "      <td>worldnewszimbabwe s mugabe  coup chief meet wi...</td>\n",
              "    </tr>\n",
              "  </tbody>\n",
              "</table>\n",
              "<p>44669 rows × 2 columns</p>\n",
              "</div>"
            ],
            "text/plain": [
              "       flag                                          news_data\n",
              "39742     1  worldnewsexclusive  death certificate offers c...\n",
              "43510     1  worldnewsjapan foreign minister thinks north k...\n",
              "9304      0  politicsjohn conyers  lawyer threatens  if thi...\n",
              "13024     0  politicsbreaking  more hacked e mails from dnc...\n",
              "8014      0  news karma  conservative group s plan to sabot...\n",
              "...     ...                                                ...\n",
              "18394     0  left newstrump drives critics crazy  eliminate...\n",
              "36515     1  worldnewsturkey says declaring jerusalem israe...\n",
              "29150     1  politicsnewslabor dept  looks into delaying fi...\n",
              "34585     1  politicsnewstrump says u s  economy in a  bubb...\n",
              "38089     1  worldnewszimbabwe s mugabe  coup chief meet wi...\n",
              "\n",
              "[44669 rows x 2 columns]"
            ]
          },
          "metadata": {
            "tags": []
          },
          "execution_count": 23
        }
      ]
    },
    {
      "cell_type": "markdown",
      "metadata": {
        "id": "valid-oakland"
      },
      "source": [
        "#### Defining independent and dependent variable as x and y"
      ],
      "id": "valid-oakland"
    },
    {
      "cell_type": "code",
      "metadata": {
        "id": "thermal-cyprus"
      },
      "source": [
        "x = news[\"news_data\"]  # independent variable\n",
        "y = news[\"flag\"]       # dependent variable"
      ],
      "id": "thermal-cyprus",
      "execution_count": 24,
      "outputs": []
    },
    {
      "cell_type": "markdown",
      "metadata": {
        "id": "loose-patrick"
      },
      "source": [
        "#### Splitting the dataset into training set and testing set."
      ],
      "id": "loose-patrick"
    },
    {
      "cell_type": "code",
      "metadata": {
        "id": "aggressive-occasion"
      },
      "source": [
        "from sklearn.model_selection import train_test_split\n",
        "x_train, x_test, y_train, y_test = train_test_split(x, y, test_size=0.25)"
      ],
      "id": "aggressive-occasion",
      "execution_count": 25,
      "outputs": []
    },
    {
      "cell_type": "markdown",
      "metadata": {
        "id": "broke-static"
      },
      "source": [
        "#### Convert a collection of raw documents to a matrix of TF-IDF features."
      ],
      "id": "broke-static"
    },
    {
      "cell_type": "code",
      "metadata": {
        "id": "foster-testing"
      },
      "source": [
        "from sklearn.feature_extraction.text import TfidfVectorizer\n",
        "vectorization = TfidfVectorizer()\n",
        "xv_train = vectorization.fit_transform(x_train)\n",
        "xv_test = vectorization.transform(x_test)"
      ],
      "id": "foster-testing",
      "execution_count": 26,
      "outputs": []
    },
    {
      "cell_type": "code",
      "metadata": {
        "id": "seventh-miller"
      },
      "source": [
        "from sklearn.metrics import accuracy_score\n",
        "from sklearn.metrics import classification_report"
      ],
      "id": "seventh-miller",
      "execution_count": 27,
      "outputs": []
    },
    {
      "cell_type": "markdown",
      "metadata": {
        "id": "everyday-establishment"
      },
      "source": [
        "### 1. Logistic Regression"
      ],
      "id": "everyday-establishment"
    },
    {
      "cell_type": "code",
      "metadata": {
        "id": "later-today",
        "colab": {
          "base_uri": "https://localhost:8080/"
        },
        "outputId": "7a80465d-6765-463d-c5c4-b5281def115a"
      },
      "source": [
        "from sklearn.linear_model import LogisticRegression\n",
        "\n",
        "LR = LogisticRegression()\n",
        "LR.fit(xv_train,y_train)"
      ],
      "id": "later-today",
      "execution_count": 42,
      "outputs": [
        {
          "output_type": "execute_result",
          "data": {
            "text/plain": [
              "LogisticRegression(C=1.0, class_weight=None, dual=False, fit_intercept=True,\n",
              "                   intercept_scaling=1, l1_ratio=None, max_iter=100,\n",
              "                   multi_class='auto', n_jobs=None, penalty='l2',\n",
              "                   random_state=None, solver='lbfgs', tol=0.0001, verbose=0,\n",
              "                   warm_start=False)"
            ]
          },
          "metadata": {
            "tags": []
          },
          "execution_count": 42
        }
      ]
    },
    {
      "cell_type": "code",
      "metadata": {
        "id": "plain-pacific",
        "colab": {
          "base_uri": "https://localhost:8080/"
        },
        "outputId": "6a9149cb-05a2-406a-d67a-cfb6e6e5f17d"
      },
      "source": [
        "LR.score(xv_test, y_test)"
      ],
      "id": "plain-pacific",
      "execution_count": 43,
      "outputs": [
        {
          "output_type": "execute_result",
          "data": {
            "text/plain": [
              "0.9888073065902578"
            ]
          },
          "metadata": {
            "tags": []
          },
          "execution_count": 43
        }
      ]
    },
    {
      "cell_type": "code",
      "metadata": {
        "id": "complicated-sugar",
        "colab": {
          "base_uri": "https://localhost:8080/"
        },
        "outputId": "8a7351f5-722e-4bea-dba9-328ae9c9ad73"
      },
      "source": [
        "pred_lr=LR.predict(xv_test)    \n",
        "print(classification_report(y_test, pred_lr))"
      ],
      "id": "complicated-sugar",
      "execution_count": 44,
      "outputs": [
        {
          "output_type": "stream",
          "text": [
            "              precision    recall  f1-score   support\n",
            "\n",
            "           0       0.99      0.99      0.99      5900\n",
            "           1       0.99      0.99      0.99      5268\n",
            "\n",
            "    accuracy                           0.99     11168\n",
            "   macro avg       0.99      0.99      0.99     11168\n",
            "weighted avg       0.99      0.99      0.99     11168\n",
            "\n"
          ],
          "name": "stdout"
        }
      ]
    },
    {
      "cell_type": "markdown",
      "metadata": {
        "id": "patent-grant"
      },
      "source": [
        "### 2. Decision Tree Classification"
      ],
      "id": "patent-grant"
    },
    {
      "cell_type": "code",
      "metadata": {
        "id": "thermal-configuration",
        "colab": {
          "base_uri": "https://localhost:8080/"
        },
        "outputId": "a5c0eca4-312e-46f3-aaa4-7693921fddd1"
      },
      "source": [
        "from sklearn.tree import DecisionTreeClassifier\n",
        "\n",
        "DT = DecisionTreeClassifier()\n",
        "DT.fit(xv_train, y_train)  # build a decision tree"
      ],
      "id": "thermal-configuration",
      "execution_count": 45,
      "outputs": [
        {
          "output_type": "execute_result",
          "data": {
            "text/plain": [
              "DecisionTreeClassifier(ccp_alpha=0.0, class_weight=None, criterion='gini',\n",
              "                       max_depth=None, max_features=None, max_leaf_nodes=None,\n",
              "                       min_impurity_decrease=0.0, min_impurity_split=None,\n",
              "                       min_samples_leaf=1, min_samples_split=2,\n",
              "                       min_weight_fraction_leaf=0.0, presort='deprecated',\n",
              "                       random_state=None, splitter='best')"
            ]
          },
          "metadata": {
            "tags": []
          },
          "execution_count": 45
        }
      ]
    },
    {
      "cell_type": "code",
      "metadata": {
        "id": "antique-summit",
        "colab": {
          "base_uri": "https://localhost:8080/"
        },
        "outputId": "37711da2-cd7a-44cd-9484-6a6f825253a9"
      },
      "source": [
        "DT.score(xv_test, y_test)"
      ],
      "id": "antique-summit",
      "execution_count": 46,
      "outputs": [
        {
          "output_type": "execute_result",
          "data": {
            "text/plain": [
              "0.9976719197707736"
            ]
          },
          "metadata": {
            "tags": []
          },
          "execution_count": 46
        }
      ]
    },
    {
      "cell_type": "code",
      "metadata": {
        "id": "built-graphic",
        "colab": {
          "base_uri": "https://localhost:8080/"
        },
        "outputId": "afc2d6d3-4053-43d4-c20b-14fa30bb24a2"
      },
      "source": [
        "pred_dt = DT.predict(xv_test)\n",
        "print(classification_report(y_test, pred_dt))"
      ],
      "id": "built-graphic",
      "execution_count": 47,
      "outputs": [
        {
          "output_type": "stream",
          "text": [
            "              precision    recall  f1-score   support\n",
            "\n",
            "           0       1.00      1.00      1.00      5900\n",
            "           1       1.00      1.00      1.00      5268\n",
            "\n",
            "    accuracy                           1.00     11168\n",
            "   macro avg       1.00      1.00      1.00     11168\n",
            "weighted avg       1.00      1.00      1.00     11168\n",
            "\n"
          ],
          "name": "stdout"
        }
      ]
    },
    {
      "cell_type": "markdown",
      "metadata": {
        "id": "isolated-developer"
      },
      "source": [
        "### 3. Gradient Boosting Classifier"
      ],
      "id": "isolated-developer"
    },
    {
      "cell_type": "code",
      "metadata": {
        "id": "considered-nepal",
        "colab": {
          "base_uri": "https://localhost:8080/"
        },
        "outputId": "abc0252e-14f6-4889-d8b1-b1d1abe67360"
      },
      "source": [
        "from sklearn.ensemble import GradientBoostingClassifier\n",
        "\n",
        "GBC = GradientBoostingClassifier(random_state=0)\n",
        "GBC.fit(xv_train, y_train)"
      ],
      "id": "considered-nepal",
      "execution_count": 48,
      "outputs": [
        {
          "output_type": "execute_result",
          "data": {
            "text/plain": [
              "GradientBoostingClassifier(ccp_alpha=0.0, criterion='friedman_mse', init=None,\n",
              "                           learning_rate=0.1, loss='deviance', max_depth=3,\n",
              "                           max_features=None, max_leaf_nodes=None,\n",
              "                           min_impurity_decrease=0.0, min_impurity_split=None,\n",
              "                           min_samples_leaf=1, min_samples_split=2,\n",
              "                           min_weight_fraction_leaf=0.0, n_estimators=100,\n",
              "                           n_iter_no_change=None, presort='deprecated',\n",
              "                           random_state=0, subsample=1.0, tol=0.0001,\n",
              "                           validation_fraction=0.1, verbose=0,\n",
              "                           warm_start=False)"
            ]
          },
          "metadata": {
            "tags": []
          },
          "execution_count": 48
        }
      ]
    },
    {
      "cell_type": "code",
      "metadata": {
        "id": "theoretical-separation",
        "colab": {
          "base_uri": "https://localhost:8080/"
        },
        "outputId": "c138dcb9-4c93-4164-b8b8-0c37581e62dc"
      },
      "source": [
        "GBC.score(xv_test, y_test)"
      ],
      "id": "theoretical-separation",
      "execution_count": 49,
      "outputs": [
        {
          "output_type": "execute_result",
          "data": {
            "text/plain": [
              "0.9962392550143266"
            ]
          },
          "metadata": {
            "tags": []
          },
          "execution_count": 49
        }
      ]
    },
    {
      "cell_type": "code",
      "metadata": {
        "id": "alpine-victorian"
      },
      "source": [
        "pred_gbc = GBC.predict(xv_test)"
      ],
      "id": "alpine-victorian",
      "execution_count": 50,
      "outputs": []
    },
    {
      "cell_type": "code",
      "metadata": {
        "id": "buried-possibility",
        "colab": {
          "base_uri": "https://localhost:8080/"
        },
        "outputId": "2c5ad0b1-3301-42d8-f733-55b52f8ca9a2"
      },
      "source": [
        "print(classification_report(y_test, pred_gbc))"
      ],
      "id": "buried-possibility",
      "execution_count": 51,
      "outputs": [
        {
          "output_type": "stream",
          "text": [
            "              precision    recall  f1-score   support\n",
            "\n",
            "           0       1.00      0.99      1.00      5900\n",
            "           1       0.99      1.00      1.00      5268\n",
            "\n",
            "    accuracy                           1.00     11168\n",
            "   macro avg       1.00      1.00      1.00     11168\n",
            "weighted avg       1.00      1.00      1.00     11168\n",
            "\n"
          ],
          "name": "stdout"
        }
      ]
    },
    {
      "cell_type": "markdown",
      "metadata": {
        "id": "threatened-cedar"
      },
      "source": [
        "### 4. Random Forest Classifier"
      ],
      "id": "threatened-cedar"
    },
    {
      "cell_type": "code",
      "metadata": {
        "id": "attached-costa",
        "colab": {
          "base_uri": "https://localhost:8080/"
        },
        "outputId": "3977004d-170b-4233-fe02-74d9e61a9365"
      },
      "source": [
        "from sklearn.ensemble import RandomForestClassifier\n",
        "\n",
        "RFC = RandomForestClassifier(random_state=0)\n",
        "RFC.fit(xv_train, y_train)    # Build a forest of decision trees from the training set"
      ],
      "id": "attached-costa",
      "execution_count": 52,
      "outputs": [
        {
          "output_type": "execute_result",
          "data": {
            "text/plain": [
              "RandomForestClassifier(bootstrap=True, ccp_alpha=0.0, class_weight=None,\n",
              "                       criterion='gini', max_depth=None, max_features='auto',\n",
              "                       max_leaf_nodes=None, max_samples=None,\n",
              "                       min_impurity_decrease=0.0, min_impurity_split=None,\n",
              "                       min_samples_leaf=1, min_samples_split=2,\n",
              "                       min_weight_fraction_leaf=0.0, n_estimators=100,\n",
              "                       n_jobs=None, oob_score=False, random_state=0, verbose=0,\n",
              "                       warm_start=False)"
            ]
          },
          "metadata": {
            "tags": []
          },
          "execution_count": 52
        }
      ]
    },
    {
      "cell_type": "code",
      "metadata": {
        "id": "authorized-attack",
        "colab": {
          "base_uri": "https://localhost:8080/"
        },
        "outputId": "0e45ab6f-78ea-400b-abda-b0026a38ab49"
      },
      "source": [
        "RFC.score(xv_test, y_test)"
      ],
      "id": "authorized-attack",
      "execution_count": 53,
      "outputs": [
        {
          "output_type": "execute_result",
          "data": {
            "text/plain": [
              "0.991493553008596"
            ]
          },
          "metadata": {
            "tags": []
          },
          "execution_count": 53
        }
      ]
    },
    {
      "cell_type": "code",
      "metadata": {
        "id": "developed-british",
        "colab": {
          "base_uri": "https://localhost:8080/"
        },
        "outputId": "5f1a7cca-36f8-404e-9223-72fd6a3158ed"
      },
      "source": [
        "pred_rfc = RFC.predict(xv_test)\n",
        "print(classification_report(y_test, pred_rfc))"
      ],
      "id": "developed-british",
      "execution_count": 54,
      "outputs": [
        {
          "output_type": "stream",
          "text": [
            "              precision    recall  f1-score   support\n",
            "\n",
            "           0       0.99      0.99      0.99      5900\n",
            "           1       0.99      0.99      0.99      5268\n",
            "\n",
            "    accuracy                           0.99     11168\n",
            "   macro avg       0.99      0.99      0.99     11168\n",
            "weighted avg       0.99      0.99      0.99     11168\n",
            "\n"
          ],
          "name": "stdout"
        }
      ]
    },
    {
      "cell_type": "markdown",
      "metadata": {
        "id": "multiple-intranet"
      },
      "source": [
        "## Model Testing"
      ],
      "id": "multiple-intranet"
    },
    {
      "cell_type": "code",
      "metadata": {
        "id": "figured-incidence"
      },
      "source": [
        "def result(flag):\n",
        "    if flag:\n",
        "        return \"real news\"\n",
        "    else:\n",
        "        return \"fake news\"\n",
        "\n",
        "def verify(news):\n",
        "    news = {\"text\":[news]}\n",
        "    news = pd.DataFrame(news)\n",
        "    news[\"text\"] = news[\"text\"].apply(normalize) \n",
        "    news = news[\"text\"]\n",
        "    news_vector = vectorization.transform(news)\n",
        "    pred_LR = LR.predict(news_vector)\n",
        "    pred_DT = DT.predict(news_vector)\n",
        "    pred_GBC = GBC.predict(news_vector)\n",
        "    pred_RFC = RFC.predict(news_vector)\n",
        "\n",
        "    print(f\"\"\"\n",
        "            LR Prediction: {result(pred_LR[0])} \\n\n",
        "            DT Prediction: {result(pred_DT[0])} \\n\n",
        "            GBC Prediction: {result(pred_GBC[0])} \\n\n",
        "            RFC Prediction: {result(pred_RFC[0])}\n",
        "        \"\"\")"
      ],
      "id": "figured-incidence",
      "execution_count": 55,
      "outputs": []
    },
    {
      "cell_type": "code",
      "metadata": {
        "id": "resistant-sleeping",
        "colab": {
          "base_uri": "https://localhost:8080/"
        },
        "outputId": "a9c051e9-554f-4a4c-fdc7-782ee10e11a1"
      },
      "source": [
        "news = input()\n",
        "# news\n",
        "verify(news)"
      ],
      "id": "resistant-sleeping",
      "execution_count": 57,
      "outputs": [
        {
          "output_type": "stream",
          "text": [
            "Donald Trump just couldn t wish all Americans a Happy New Year and leave it at that. Instead, he had to give a shout out to his enemies, haters and  the very dishonest fake news media.  The former reality show star had just one job to do and he couldn t do it. As our Country rapidly grows stronger and smarter, I want to wish all of my friends, supporters, enemies, haters, and even the very dishonest Fake News Media, a Happy and Healthy New Year,  President Angry Pants tweeted.  2018 will be a great year for America! As our Country rapidly grows stronger and smarter, I want to wish all of my friends, supporters, enemies, haters, and even the very dishonest Fake News Media, a Happy and Healthy New Year. 2018 will be a great year for America!  Donald J. Trump (@realDonaldTrump) December 31, 2017Trump s tweet went down about as welll as you d expect.What kind of president sends a New Year s greeting like this despicable, petty, infantile gibberish? Only Trump! His lack of decency won t even allow him to rise above the gutter long enough to wish the American citizens a happy new year!  Bishop Talbert Swan (@TalbertSwan) December 31, 2017no one likes you  Calvin (@calvinstowell) December 31, 2017Your impeachment would make 2018 a great year for America, but I ll also accept regaining control of Congress.  Miranda Yaver (@mirandayaver) December 31, 2017Do you hear yourself talk? When you have to include that many people that hate you you have to wonder? Why do the they all hate me?  Alan Sandoval (@AlanSandoval13) December 31, 2017Who uses the word Haters in a New Years wish??  Marlene (@marlene399) December 31, 2017You can t just say happy new year?  Koren pollitt (@Korencarpenter) December 31, 2017Here s Trump s New Year s Eve tweet from 2016.Happy New Year to all, including to my many enemies and those who have fought me and lost so badly they just don t know what to do. Love!  Donald J. Trump (@realDonaldTrump) December 31, 2016This is nothing new for Trump. He s been doing this for years.Trump has directed messages to his  enemies  and  haters  for New Year s, Easter, Thanksgiving, and the anniversary of 9/11. pic.twitter.com/4FPAe2KypA  Daniel Dale (@ddale8) December 31, 2017Trump s holiday tweets are clearly not presidential.How long did he work at Hallmark before becoming President?  Steven Goodine (@SGoodine) December 31, 2017He s always been like this . . . the only difference is that in the last few years, his filter has been breaking down.  Roy Schulze (@thbthttt) December 31, 2017Who, apart from a teenager uses the term haters?  Wendy (@WendyWhistles) December 31, 2017he s a fucking 5 year old  Who Knows (@rainyday80) December 31, 2017So, to all the people who voted for this a hole thinking he would change once he got into power, you were wrong! 70-year-old men don t change and now he s a year older.Photo by Andrew Burton/Getty Images.\n",
            "\n",
            "            LR Prediction: fake news \n",
            "\n",
            "            DT Prediction: fake news \n",
            "\n",
            "            GBC Prediction: fake news \n",
            "\n",
            "            RFC Prediction: fake news\n",
            "        \n"
          ],
          "name": "stdout"
        }
      ]
    }
  ]
}